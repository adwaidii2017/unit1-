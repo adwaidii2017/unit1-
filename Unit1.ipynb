{
  "cells": [
    {
      "cell_type": "markdown",
      "metadata": {
        "id": "view-in-github",
        "colab_type": "text"
      },
      "source": [
        "<a href=\"https://colab.research.google.com/github/adwaidii2017/unit1-/blob/main/Unit1.ipynb\" target=\"_parent\"><img src=\"https://colab.research.google.com/assets/colab-badge.svg\" alt=\"Open In Colab\"/></a>"
      ]
    },
    {
      "cell_type": "markdown",
      "metadata": {
        "id": "JRK1fr_DBAzX"
      },
      "source": []
    },
    {
      "cell_type": "markdown",
      "metadata": {
        "id": "UwK1aKVtGEeD"
      },
      "source": [
        "# data types\n"
      ]
    },
    {
      "cell_type": "markdown",
      "metadata": {
        "id": "vQHOznLPJmGQ"
      },
      "source": [
        "Numeric\n",
        "\n",
        "1. numeric   \n",
        "2. float\n",
        "3. complex\n",
        "4. text  \n",
        "5. boolean bool true/ false\n",
        "6. sequence\n",
        "*  list\n",
        "*  tuple\n",
        "*  range\n",
        "7. sets\n",
        "  *    set\n",
        "  *  frozen set\n",
        " 8. binary\n",
        "   * bytes\n",
        "   * bytearray\n",
        "   * memory\n",
        "  \n",
        "9. mapping\n",
        " dict\n",
        "\n",
        "10. none\n",
        "\n",
        "\n"
      ]
    },
    {
      "cell_type": "code",
      "execution_count": null,
      "metadata": {
        "id": "GjfFWa9GAcD8"
      },
      "outputs": [],
      "source": [
        "  x = 50\n",
        "  x = 60.5\n",
        "  x=\"Hello\"\n",
        "  x = [\"mr\",\"Adwait\",\"Patwardhan\"]\n",
        "  x = (\"mr\",\"Aadarsh\",\"Mishra\")\n",
        "  # example of multiple assignment\n"
      ]
    },
    {
      "cell_type": "markdown",
      "metadata": {
        "id": "jNbVzcrAPPrl"
      },
      "source": [
        "\n",
        "\n",
        "\n",
        "1.   int : used for categorical encoding ,class id , 1- hot indexing and token id's id NLP  \n",
        "2.   float : represent real value data like features, prediction gradients , weights\n",
        "3.   complex : use in signal processing , audio , analysis , spectral ,method fro exm fft in ffg\n",
        "4. float32/float64 - standard in deep learning framework like Pytoarch, tensorFlow to balance precision and memory usage\n",
        "5. int 32 / int64 - used for labels indexing arrays / tensors and specifing seq. length in NLP.\n",
        "6.\n",
        "\n",
        "\n"
      ]
    },
    {
      "cell_type": "markdown",
      "metadata": {
        "id": "IcKAdhg2OD5d"
      },
      "source": []
    },
    {
      "cell_type": "code",
      "execution_count": null,
      "metadata": {
        "colab": {
          "base_uri": "https://localhost:8080/"
        },
        "id": "Gdcl5xScShRE",
        "outputId": "cd45df36-2e34-436e-d283-a8b3a9abe93d"
      },
      "outputs": [
        {
          "name": "stdout",
          "output_type": "stream",
          "text": [
            "86.12\n"
          ]
        }
      ],
      "source": [
        "power_levels = [86,92.5,75,91]\n",
        "if power_levels:\n",
        "  avg_power =round( sum(power_levels)/len(power_levels), 2)\n",
        "else:\n",
        "  avg_power = 0\n",
        "print(avg_power)"
      ]
    },
    {
      "cell_type": "markdown",
      "metadata": {
        "id": "qxFEvfDqT7j5"
      },
      "source": [
        "interview tips\n",
        "1 always validate your input data before execution of programm."
      ]
    },
    {
      "cell_type": "markdown",
      "metadata": {
        "id": "uOIuG91BZzi-"
      },
      "source": []
    },
    {
      "cell_type": "code",
      "execution_count": null,
      "metadata": {
        "id": "bt8PmWRrafE5"
      },
      "outputs": [],
      "source": [
        "import statistics\n",
        "power_level = {\"Ironman \": 100,\"Hulk \" : 200}\n",
        "x = statistics.mean"
      ]
    },
    {
      "cell_type": "markdown",
      "metadata": {
        "id": "bsnGmLITa66N"
      },
      "source": [
        "interview tip\n",
        "dict. vs list\n",
        "1. dict. is best well data can be mapped where as list works best when order or sequence matters.\n",
        "2. efficiency be ready to compute averages in one pass using built in functions or libraries.\n",
        "3. keeps the time complexity in mind.\n",
        "4."
      ]
    },
    {
      "cell_type": "markdown",
      "metadata": {
        "id": "B8bNgms5boBE"
      },
      "source": [
        "ques. write a python program to find largest number in a list\n"
      ]
    },
    {
      "cell_type": "code",
      "execution_count": null,
      "metadata": {
        "colab": {
          "base_uri": "https://localhost:8080/"
        },
        "id": "LdrHcUjDcNYl",
        "outputId": "d2f8bc8d-4467-4424-ea19-3804f3aa4e2e"
      },
      "outputs": [
        {
          "name": "stdout",
          "output_type": "stream",
          "text": [
            "2\n",
            "10\n"
          ]
        }
      ],
      "source": [
        "a = [10,2,8,4]\n",
        "print(min(a))\n",
        "print(max(a))"
      ]
    },
    {
      "cell_type": "code",
      "execution_count": null,
      "metadata": {
        "colab": {
          "base_uri": "https://localhost:8080/"
        },
        "id": "XcSZ2c2bdZ1x",
        "outputId": "133f2416-ff21-4c82-a51f-c47b50705b87"
      },
      "outputs": [
        {
          "name": "stdout",
          "output_type": "stream",
          "text": [
            "2\n",
            "10\n"
          ]
        }
      ],
      "source": [
        "num = [10,2,8,4]\n",
        "max = min = num[0]\n",
        "for n in num :\n",
        "      if max < n :\n",
        "          max = n\n",
        "      if min > n :\n",
        "          min = n\n",
        "\n",
        "print(min)\n",
        "print(max)"
      ]
    },
    {
      "cell_type": "markdown",
      "metadata": {
        "id": "hKg6vxu5ejRw"
      },
      "source": [
        "ROTATATE THE LIST RIGHT BY K STEPS"
      ]
    },
    {
      "cell_type": "code",
      "execution_count": null,
      "metadata": {
        "id": "nkPJLhe8gjf5"
      },
      "outputs": [],
      "source": [
        "num = [10,2,8,4]\n",
        "k = 2\n",
        "n = len(num)\n",
        "\n",
        "\n",
        "k = k % len(num)\n",
        "  rotated = num[-k:] + num[-k]\n"
      ]
    },
    {
      "cell_type": "markdown",
      "metadata": {
        "id": "F_3a2k_zKG25"
      },
      "source": []
    },
    {
      "cell_type": "markdown",
      "metadata": {
        "id": "IRxgR1X1KPCQ"
      },
      "source": [
        "DATA SET CALLED"
      ]
    },
    {
      "cell_type": "markdown",
      "metadata": {
        "id": "-927AB7qKYlk"
      },
      "source": [
        "1. string are array of bytes representing unique codes. no seperate char.s data types\n",
        "2. string can be created using single code double code triple code\n",
        "3. access individual char. via indexing,starting at 0.\n",
        "4. strings are immutable\n",
        "5. a string can be repeated by multiplying it by an integer\n",
        "6. function that is used for string is str.\n",
        "7."
      ]
    },
    {
      "cell_type": "code",
      "execution_count": null,
      "metadata": {
        "colab": {
          "background_save": true,
          "base_uri": "https://localhost:8080/"
        },
        "id": "ZBuGsrVkLtR1",
        "outputId": "c9e46e90-4409-43ad-b481-975dbb60f6c6"
      },
      "outputs": [
        {
          "name": "stdout",
          "output_type": "stream",
          "text": [
            "This is string.du du du max verstappen\n",
            "This isalsoanexampleofastring\n",
            "this is a ..... single line \n",
            "Hulk:SmashHulk:SmashHulk:Smash\n",
            "# Adwait is the best\n",
            "length of string 20\n",
            "this first char #\n",
            "this last char t\n",
            "In pyhton 0 and -0  #\n",
            "the substring of s5 line # Ad\n"
          ]
        }
      ],
      "source": [
        "s1 = \"This is string.du du du max verstappen\"\n",
        "print(s1)\n",
        "s2 = \"This\"+ \"\" +\" is\" + \"also\" + \"an\" + \"example\" + \"of\" + \"a\" + \"string\"\n",
        "print(s2)\n",
        "s3 = \"this is a \\\n",
        "..... single line \"\n",
        "print(s3)\n",
        "s4 = \"hulk:Smash\"\n",
        "print(s4*3)"
      ]
    },
    {
      "cell_type": "markdown",
      "metadata": {
        "id": "r73647FYfUtT"
      },
      "source": []
    }
  ],
  "metadata": {
    "colab": {
      "provenance": [],
      "authorship_tag": "ABX9TyMUQWOs+r51vwRZgjcIOefJ",
      "include_colab_link": true
    },
    "kernelspec": {
      "display_name": "Python 3",
      "name": "python3"
    },
    "language_info": {
      "name": "python"
    }
  },
  "nbformat": 4,
  "nbformat_minor": 0
}